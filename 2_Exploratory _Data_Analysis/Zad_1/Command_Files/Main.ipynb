{
 "cells": [
  {
   "cell_type": "code",
   "execution_count": 8,
   "metadata": {},
   "outputs": [],
   "source": [
    "#Convert weather.txt to weather.csv"
   ]
  },
  {
   "cell_type": "code",
   "execution_count": 9,
   "metadata": {},
   "outputs": [],
   "source": [
    "import re\n",
    "\n",
    "file = open('/home/ayane/AiBD_Lab1/Analysis_Data/weather.txt')\n",
    "data = file.read()\n",
    "file.close()\n",
    "\n",
    "#Replace 'B*', 'D*' or 'S' with tabulation and 'IO' or 'OS' or 'SI' or 'I+' or 'S+' with tabulation into ,\n",
    "data = re.sub('[BDS]?[\\t ]+(OI|OS|SI|I+|S+)[\\t ]*',',',data)\n",
    "#Replace tabulation with ,\n",
    "data = re.sub('[\\t ]+',',',data)\n",
    "#Replace a lot of characters with tabulation and enter to just enter (end of line)\n",
    "data = re.sub('\\s*,[\\t ]*\\n','\\n',data)\n",
    "#Get year-month and variable (TMAX, TMIN or PRCP)\n",
    "data = re.sub('MX000017004(\\d\\d\\d\\d)(\\d\\d)(\\w\\w\\w\\w)','\\g<1>-\\g<2>,\\g<3>',data)\n",
    "#Delete '-9999' data\n",
    "data = data.replace('-9999','')\n",
    "\n",
    "#Create headers\n",
    "header = 'year-month,var'\n",
    "for i in range(1,32):\n",
    "    header += ',D'+str(i)\n",
    "    \n",
    "#Connect headers with data\n",
    "data = header+'\\n'+data\n",
    "\n",
    "#Save *.txt file as *.csv \n",
    "file = open('/home/ayane/AiBD_Lab1/Analysis_Data/weather_csv.csv','w')\n",
    "file.write(data)\n",
    "file.close()"
   ]
  },
  {
   "cell_type": "code",
   "execution_count": 10,
   "metadata": {},
   "outputs": [],
   "source": [
    "#END of: Convert weather.txt to weather.csv"
   ]
  },
  {
   "cell_type": "code",
   "execution_count": 11,
   "metadata": {},
   "outputs": [],
   "source": [
    "#Converting wide table into high table"
   ]
  },
  {
   "cell_type": "code",
   "execution_count": 12,
   "metadata": {},
   "outputs": [],
   "source": [
    "import pandas as pd\n",
    "import math\n",
    "\n",
    "file = '/home/ayane/AiBD_Lab1/Analysis_Data/weather_csv.csv'\n",
    "\n",
    "data = pd.read_csv(file)\n",
    "data_new = {}\n",
    "counter = 0\n",
    "\n",
    "for row in data.itertuples():\n",
    "    for day in range(1,32):\n",
    "        day_ = row[1]+'-'+str(i).zfill(2)\n",
    "        \n",
    "        value = row[2+day]\n",
    "            \n",
    "        entry = {row[2]: value}\n",
    "        \n",
    "        if day_ in data_new.keys():\n",
    "            entry = {**data_new[day_], **entry}\n",
    "        \n",
    "        data_new[day_] = entry \n",
    "        \n",
    "data_new = pd.DataFrame(data_new).T.query('TMAX != \"NaN\" or TMIN != \"NaN\" or PRCP != \"NaN\"')\n",
    "        \n",
    "file = open('/home/ayane/AiBD_Lab1/Analysis_Data/weather_csv_tidy.csv', 'w')\n",
    "file.write('DAY' + data_new.to_csv())\n",
    "file.close()"
   ]
  },
  {
   "cell_type": "code",
   "execution_count": 13,
   "metadata": {},
   "outputs": [],
   "source": [
    "#END of: Converting wide table into high table"
   ]
  }
 ],
 "metadata": {
  "kernelspec": {
   "display_name": "Python 3",
   "language": "python",
   "name": "python3"
  },
  "language_info": {
   "codemirror_mode": {
    "name": "ipython",
    "version": 3
   },
   "file_extension": ".py",
   "mimetype": "text/x-python",
   "name": "python",
   "nbconvert_exporter": "python",
   "pygments_lexer": "ipython3",
   "version": "3.7.3"
  }
 },
 "nbformat": 4,
 "nbformat_minor": 4
}
