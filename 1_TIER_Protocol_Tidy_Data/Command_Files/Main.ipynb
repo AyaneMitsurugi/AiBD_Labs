{
 "cells": [
  {
   "cell_type": "code",
   "execution_count": 2,
   "metadata": {},
   "outputs": [],
   "source": [
    "#Convert weather.txt to weather.csv"
   ]
  },
  {
   "cell_type": "code",
   "execution_count": 3,
   "metadata": {},
   "outputs": [],
   "source": [
    "import re\n",
    "\n",
    "file = open('/home/ayane/AiBD_Lab1/Analysis_Data/weather.txt')\n",
    "data = file.read()\n",
    "file.close()\n",
    "\n",
    "data = re.sub('[BDS]?[\\t ]+(OI|OS|SI|I+|S+)[\\t ]*',',',data)\n",
    "data = re.sub('[\\t ]+',',',data)\n",
    "data = re.sub('\\s*,[\\t ]*\\n','\\n',data)\n",
    "data = re.sub('MX000017004(\\d\\d\\d\\d)(\\d\\d)(\\w\\w\\w\\w)','\\g<1>-\\g<2>,\\g<3>',data)\n",
    "data = data.replace('-9999','')\n",
    "\n",
    "#Create headers\n",
    "header = 'year-month,var'\n",
    "for i in range(1,32):\n",
    "    header += ',D'+str(i)\n",
    "    \n",
    "#Connect headers with data\n",
    "data = header+'\\n'+data\n",
    "\n",
    "#Save *.txt file as *.csv \n",
    "file = open('/home/ayane/AiBD_Lab1/Analysis_Data/weather_csv.csv','w')\n",
    "file.write(data)\n",
    "file.close()"
   ]
  },
  {
   "cell_type": "code",
   "execution_count": 4,
   "metadata": {},
   "outputs": [],
   "source": [
    "#END of: Convert weather.txt to weather.csv"
   ]
  },
  {
   "cell_type": "code",
   "execution_count": 5,
   "metadata": {},
   "outputs": [],
   "source": [
    "#Converting wide table into high table"
   ]
  },
  {
   "cell_type": "code",
   "execution_count": 6,
   "metadata": {},
   "outputs": [],
   "source": [
    "import pandas as pd\n",
    "import math\n",
    "\n",
    "file = '/home/ayane/AiBD_Lab1/Analysis_Data/weather_csv.csv'\n",
    "\n",
    "data = pd.read_csv(file)\n",
    "data_new = {}\n",
    "counter = 0\n",
    "\n",
    "for row in data.itertuples():\n",
    "    for day in range(1,32):\n",
    "        day_ = row[1]+'-'+str(i).zfill(2)\n",
    "        \n",
    "        value = row[2+day]\n",
    "            \n",
    "        entry = {row[2]: value}\n",
    "        \n",
    "        if day_ in data_new.keys():\n",
    "            entry = {**data_new[day_], **entry}\n",
    "        \n",
    "        data_new[day_] = entry \n",
    "        \n",
    "data_new = pd.DataFrame(data_new).T.query('TMAX != \"NaN\" or TMIN != \"NaN\" or PRCP != \"NaN\"')\n",
    "        \n",
    "file = open('/home/ayane/AiBD_Lab1/Analysis_Data/weather_csv_tidy.csv', 'w')\n",
    "file.write('DAY' + data_new.to_csv())\n",
    "file.close()"
   ]
  },
  {
   "cell_type": "code",
   "execution_count": 7,
   "metadata": {},
   "outputs": [],
   "source": [
    "#END of: Converting wide table into high table"
   ]
  }
 ],
 "metadata": {
  "kernelspec": {
   "display_name": "Python 3",
   "language": "python",
   "name": "python3"
  },
  "language_info": {
   "codemirror_mode": {
    "name": "ipython",
    "version": 3
   },
   "file_extension": ".py",
   "mimetype": "text/x-python",
   "name": "python",
   "nbconvert_exporter": "python",
   "pygments_lexer": "ipython3",
   "version": "3.7.3"
  }
 },
 "nbformat": 4,
 "nbformat_minor": 4
}
